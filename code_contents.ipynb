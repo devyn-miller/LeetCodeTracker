{
 "cells": [
  {
   "cell_type": "code",
   "execution_count": 1,
   "metadata": {},
   "outputs": [
    {
     "name": "stdout",
     "output_type": "stream",
     "text": [
      "Code contents have been written to code_contents.txt\n"
     ]
    }
   ],
   "source": [
    "import os\n",
    "\n",
    "# Define the directory to start the traversal\n",
    "project_directory = '/Users/devynmiller/LeetCodeTracker/LeetCodeTracker'\n",
    "\n",
    "# Define the output file where the code contents will be written\n",
    "output_file_path = 'code_contents.txt'\n",
    "\n",
    "# Open the output file in write mode\n",
    "with open(output_file_path, 'w') as output_file:\n",
    "    # Walk through the project directory\n",
    "    for root, dirs, files in os.walk(project_directory):\n",
    "        for file_name in files:\n",
    "            # Construct the full file path\n",
    "            file_path = os.path.join(root, file_name)\n",
    "            # Open and read the contents of the file\n",
    "            with open(file_path, 'r') as file:\n",
    "                try:\n",
    "                    # Read the contents of the file\n",
    "                    contents = file.read()\n",
    "                    # Write the contents to the output file\n",
    "                    output_file.write(contents)\n",
    "                    # Optionally, write a separator between files' contents\n",
    "                    output_file.write('\\n\\n')\n",
    "                except Exception as e:\n",
    "                    # Handle exceptions (e.g., if the file cannot be read)\n",
    "                    print(f\"Could not read file {file_path}: {e}\")\n",
    "\n",
    "print(f\"Code contents have been written to {output_file_path}\")"
   ]
  }
 ],
 "metadata": {
  "kernelspec": {
   "display_name": "newenv",
   "language": "python",
   "name": "python3"
  },
  "language_info": {
   "codemirror_mode": {
    "name": "ipython",
    "version": 3
   },
   "file_extension": ".py",
   "mimetype": "text/x-python",
   "name": "python",
   "nbconvert_exporter": "python",
   "pygments_lexer": "ipython3",
   "version": "3.11.5"
  }
 },
 "nbformat": 4,
 "nbformat_minor": 2
}
